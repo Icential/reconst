{
 "cells": [
  {
   "cell_type": "code",
   "execution_count": 32,
   "metadata": {},
   "outputs": [],
   "source": [
    "from tqdm import tqdm\n",
    "import torch\n",
    "from torch import nn\n",
    "from torch.utils.data import DataLoader, Dataset\n",
    "from torchvision import datasets, transforms\n",
    "from piqa.ssim import SSIM\n",
    "import numpy as np\n",
    "import pandas as pd\n",
    "from torchinfo import summary\n",
    "from safetensors.torch import save_model, load_model\n",
    "import matplotlib.pyplot as plt\n",
    "import cv2"
   ]
  },
  {
   "cell_type": "code",
   "execution_count": 33,
   "metadata": {},
   "outputs": [
    {
     "data": {
      "text/plain": [
       "'cpu'"
      ]
     },
     "execution_count": 33,
     "metadata": {},
     "output_type": "execute_result"
    }
   ],
   "source": [
    "device = \"cuda\" if torch.cuda.is_available() else \"cpu\"\n",
    "device"
   ]
  },
  {
   "cell_type": "code",
   "execution_count": 34,
   "metadata": {},
   "outputs": [],
   "source": [
    "data_transforms = transforms.Compose([\n",
    "    transforms.ToTensor(),\n",
    "    transforms.Grayscale()\n",
    "])"
   ]
  },
  {
   "cell_type": "code",
   "execution_count": 35,
   "metadata": {},
   "outputs": [],
   "source": [
    "train_data = datasets.FashionMNIST(\n",
    "    root=\"data\",\n",
    "    train=True,\n",
    "    download=True,\n",
    "    transform=data_transforms\n",
    ")\n",
    "\n",
    "test_data = datasets.FashionMNIST(\n",
    "    root=\"data\",\n",
    "    train=False,\n",
    "    download=True,\n",
    "    transform=data_transforms\n",
    ")"
   ]
  },
  {
   "cell_type": "code",
   "execution_count": 36,
   "metadata": {},
   "outputs": [],
   "source": [
    "batch_size = 16\n",
    "\n",
    "# put custom dataset to dataloader\n",
    "train_dl = DataLoader(train_data, batch_size=batch_size, shuffle=True)\n",
    "test_dl = DataLoader(test_data, batch_size=batch_size, shuffle=True)"
   ]
  },
  {
   "cell_type": "code",
   "execution_count": 37,
   "metadata": {},
   "outputs": [
    {
     "data": {
      "text/plain": [
       "torch.Size([16, 1, 28, 28])"
      ]
     },
     "execution_count": 37,
     "metadata": {},
     "output_type": "execute_result"
    }
   ],
   "source": [
    "# test if data can be inserted into dataloader\n",
    "x, y = next(iter(train_dl))\n",
    "x.shape"
   ]
  },
  {
   "cell_type": "code",
   "execution_count": 38,
   "metadata": {},
   "outputs": [
    {
     "data": {
      "text/plain": [
       "tensor([[0.0000, 0.0000, 0.0000, 0.0000, 0.0000, 0.0000, 0.0000, 0.0000, 0.0000,\n",
       "         0.0000, 0.0000, 0.0000, 0.0000, 0.0000, 0.0000, 0.0000, 0.0000, 0.0000,\n",
       "         0.0000, 0.0000, 0.0000, 0.0000, 0.0000, 0.0000, 0.0000, 0.0000, 0.0000,\n",
       "         0.0000],\n",
       "        [0.0000, 0.0000, 0.0000, 0.0000, 0.0000, 0.0000, 0.0000, 0.0000, 0.0000,\n",
       "         0.0000, 0.0000, 0.0000, 0.0000, 0.0000, 0.0000, 0.0000, 0.0000, 0.0000,\n",
       "         0.0000, 0.0000, 0.0000, 0.0000, 0.0000, 0.0000, 0.0000, 0.0000, 0.0000,\n",
       "         0.0000],\n",
       "        [0.0000, 0.0000, 0.0000, 0.0000, 0.0000, 0.0000, 0.0000, 0.0000, 0.0000,\n",
       "         0.0000, 0.0000, 0.0000, 0.0000, 0.0000, 0.0000, 0.0000, 0.0000, 0.0000,\n",
       "         0.0000, 0.0000, 0.0000, 0.0000, 0.0000, 0.0000, 0.0000, 0.0000, 0.0000,\n",
       "         0.0000],\n",
       "        [0.0000, 0.0000, 0.0000, 0.0000, 0.0000, 0.0000, 0.0000, 0.0000, 0.0000,\n",
       "         0.0000, 0.0000, 0.0000, 0.0000, 0.0000, 0.0000, 0.0000, 0.0000, 0.0000,\n",
       "         0.0000, 0.0000, 0.0000, 0.0000, 0.0000, 0.0000, 0.0000, 0.0000, 0.0000,\n",
       "         0.0000],\n",
       "        [0.0000, 0.0000, 0.0000, 0.0000, 0.0000, 0.0000, 0.0000, 0.0000, 0.0000,\n",
       "         0.0000, 0.0000, 0.0000, 0.0000, 0.0000, 0.0000, 0.0000, 0.0000, 0.0000,\n",
       "         0.0000, 0.0000, 0.0000, 0.0000, 0.0000, 0.0000, 0.0000, 0.0000, 0.0000,\n",
       "         0.0000],\n",
       "        [0.0000, 0.0000, 0.0000, 0.0000, 0.0000, 0.0000, 0.0000, 0.0000, 0.0000,\n",
       "         0.0000, 0.0000, 0.0000, 0.0000, 0.0000, 0.0000, 0.0000, 0.0000, 0.0000,\n",
       "         0.0000, 0.0000, 0.0000, 0.0000, 0.0000, 0.0000, 0.0000, 0.0000, 0.0000,\n",
       "         0.0000],\n",
       "        [0.0000, 0.0000, 0.0000, 0.0000, 0.0000, 0.0000, 0.0000, 0.0000, 0.0000,\n",
       "         0.0000, 0.0000, 0.0000, 0.0000, 0.0000, 0.0000, 0.0000, 0.0000, 0.0000,\n",
       "         0.0000, 0.0000, 0.0000, 0.0000, 0.0000, 0.0000, 0.0000, 0.0000, 0.0000,\n",
       "         0.0000],\n",
       "        [0.0000, 0.0000, 0.0000, 0.0000, 0.0000, 0.0000, 0.0000, 0.0000, 0.0000,\n",
       "         0.0000, 0.0000, 0.0000, 0.0000, 0.0000, 0.0000, 0.0000, 0.1216, 0.3059,\n",
       "         0.0078, 0.0000, 0.0078, 0.0000, 0.0000, 0.0000, 0.0078, 0.0000, 0.0000,\n",
       "         0.0000],\n",
       "        [0.0000, 0.0000, 0.0000, 0.0000, 0.0000, 0.0000, 0.0000, 0.0000, 0.0000,\n",
       "         0.0000, 0.0000, 0.0000, 0.0000, 0.0000, 0.0275, 0.2745, 0.3451, 0.7020,\n",
       "         0.1098, 0.0000, 0.0000, 0.0078, 0.0078, 0.0196, 0.0196, 0.0000, 0.0000,\n",
       "         0.0000],\n",
       "        [0.0000, 0.0000, 0.0000, 0.0000, 0.0000, 0.0000, 0.0000, 0.0000, 0.0000,\n",
       "         0.0000, 0.0000, 0.0000, 0.0000, 0.0000, 0.4157, 0.4471, 0.4078, 0.6000,\n",
       "         0.0000, 0.0000, 0.0078, 0.0000, 0.0000, 0.0000, 0.0000, 0.3059, 0.4471,\n",
       "         0.0000],\n",
       "        [0.0000, 0.0000, 0.0000, 0.0000, 0.0000, 0.0000, 0.0000, 0.0000, 0.0000,\n",
       "         0.0000, 0.0000, 0.0000, 0.0078, 0.3451, 0.4353, 0.3255, 0.4863, 0.6118,\n",
       "         0.2118, 0.0000, 0.0000, 0.0000, 0.0000, 0.0000, 0.3765, 0.6706, 0.7529,\n",
       "         0.1529],\n",
       "        [0.0000, 0.0000, 0.0000, 0.0000, 0.0000, 0.0000, 0.0000, 0.0000, 0.0000,\n",
       "         0.0000, 0.0000, 0.0510, 0.2431, 0.3843, 0.2941, 0.5098, 0.5686, 0.5608,\n",
       "         0.6314, 0.7647, 0.5608, 0.4078, 0.4157, 0.6510, 0.7412, 0.7725, 0.7647,\n",
       "         0.1725],\n",
       "        [0.0000, 0.0000, 0.0000, 0.0000, 0.0000, 0.0000, 0.0000, 0.0000, 0.0078,\n",
       "         0.1412, 0.1922, 0.3333, 0.6000, 0.6118, 0.4863, 0.6824, 0.7843, 0.6196,\n",
       "         0.7137, 0.8235, 0.8431, 0.9059, 0.8941, 0.8863, 0.8039, 0.6000, 0.5490,\n",
       "         0.0784],\n",
       "        [0.0000, 0.0000, 0.0000, 0.0000, 0.0000, 0.0000, 0.1020, 0.2941, 0.4157,\n",
       "         0.5294, 0.4275, 0.4078, 0.4784, 0.4588, 0.3255, 0.5804, 0.6510, 0.7333,\n",
       "         0.6314, 0.5176, 0.5686, 0.6824, 0.4157, 0.2431, 0.3843, 0.4588, 0.6510,\n",
       "         0.1608],\n",
       "        [0.0000, 0.0078, 0.0706, 0.1529, 0.1608, 0.2118, 0.2941, 0.3843, 0.3765,\n",
       "         0.3333, 0.4078, 0.3059, 0.2627, 0.3961, 0.5176, 0.5882, 0.6902, 0.6118,\n",
       "         0.7412, 0.9451, 0.7647, 0.5608, 0.6000, 0.6627, 0.6510, 0.6196, 0.7216,\n",
       "         0.1608],\n",
       "        [0.0196, 0.2627, 0.2627, 0.2824, 0.3765, 0.4353, 0.2627, 0.3569, 0.3569,\n",
       "         0.3451, 0.4353, 0.3451, 0.4863, 0.6824, 0.7647, 0.6824, 0.4667, 0.7020,\n",
       "         0.8235, 0.6196, 0.4353, 0.7020, 0.7412, 0.7529, 0.7137, 0.6824, 0.6824,\n",
       "         0.0902],\n",
       "        [0.2039, 0.4157, 0.2745, 0.2745, 0.2745, 0.4157, 0.3843, 0.4157, 0.4863,\n",
       "         0.4667, 0.4275, 0.5098, 0.5804, 0.4157, 0.3451, 0.6824, 0.7529, 0.7020,\n",
       "         0.8235, 0.6824, 0.6824, 0.6314, 0.6314, 0.6118, 0.6000, 0.5686, 0.6000,\n",
       "         0.0706],\n",
       "        [0.2039, 0.5686, 0.4980, 0.5098, 0.4471, 0.4784, 0.5294, 0.5804, 0.6118,\n",
       "         0.5804, 0.6824, 0.7412, 0.5490, 0.4275, 0.8549, 0.6706, 0.6392, 0.4157,\n",
       "         0.6196, 1.0000, 1.0000, 0.9176, 0.9176, 0.8235, 0.8353, 0.7529, 0.8745,\n",
       "         0.2627],\n",
       "        [0.0196, 0.2627, 0.5098, 0.3333, 0.4667, 0.5373, 0.5176, 0.3961, 0.3647,\n",
       "         0.4078, 0.4353, 0.4784, 0.6118, 0.5176, 0.3569, 0.3451, 0.4078, 0.4353,\n",
       "         0.4980, 0.5608, 0.4353, 0.5098, 0.5882, 0.5882, 0.6392, 0.7412, 0.6824,\n",
       "         0.0902],\n",
       "        [0.0000, 0.0000, 0.1608, 0.2745, 0.3569, 0.3059, 0.1804, 0.1020, 0.0510,\n",
       "         0.0275, 0.0275, 0.0392, 0.1098, 0.2627, 0.3843, 0.3333, 0.3569, 0.2941,\n",
       "         0.3255, 0.2314, 0.1529, 0.1294, 0.1922, 0.2039, 0.2118, 0.2627, 0.4471,\n",
       "         0.2431],\n",
       "        [0.0078, 0.0000, 0.0000, 0.0000, 0.1412, 0.3059, 0.3255, 0.4275, 0.6000,\n",
       "         0.6314, 0.6118, 0.6902, 0.6902, 0.4980, 0.2039, 0.2824, 0.2627, 0.2627,\n",
       "         0.2431, 0.1294, 0.4078, 0.7922, 0.6392, 0.4863, 0.6196, 0.5686, 0.3137,\n",
       "         0.0000],\n",
       "        [0.0000, 0.0000, 0.0000, 0.0000, 0.0000, 0.0000, 0.0000, 0.0000, 0.0000,\n",
       "         0.0000, 0.0000, 0.0000, 0.0000, 0.0000, 0.0000, 0.0000, 0.0000, 0.0000,\n",
       "         0.0000, 0.0000, 0.0000, 0.0000, 0.0000, 0.0000, 0.0000, 0.0000, 0.0000,\n",
       "         0.0000],\n",
       "        [0.0000, 0.0000, 0.0000, 0.0000, 0.0000, 0.0000, 0.0000, 0.0000, 0.0000,\n",
       "         0.0000, 0.0000, 0.0000, 0.0000, 0.0000, 0.0000, 0.0000, 0.0000, 0.0000,\n",
       "         0.0000, 0.0000, 0.0000, 0.0000, 0.0000, 0.0000, 0.0000, 0.0000, 0.0000,\n",
       "         0.0000],\n",
       "        [0.0000, 0.0000, 0.0000, 0.0000, 0.0000, 0.0000, 0.0000, 0.0000, 0.0000,\n",
       "         0.0000, 0.0000, 0.0000, 0.0000, 0.0000, 0.0000, 0.0000, 0.0000, 0.0000,\n",
       "         0.0000, 0.0000, 0.0000, 0.0000, 0.0000, 0.0000, 0.0000, 0.0000, 0.0000,\n",
       "         0.0000],\n",
       "        [0.0000, 0.0000, 0.0000, 0.0000, 0.0000, 0.0000, 0.0000, 0.0000, 0.0000,\n",
       "         0.0000, 0.0000, 0.0000, 0.0000, 0.0000, 0.0000, 0.0000, 0.0000, 0.0000,\n",
       "         0.0000, 0.0000, 0.0000, 0.0000, 0.0000, 0.0000, 0.0000, 0.0000, 0.0000,\n",
       "         0.0000],\n",
       "        [0.0000, 0.0000, 0.0000, 0.0000, 0.0000, 0.0000, 0.0000, 0.0000, 0.0000,\n",
       "         0.0000, 0.0000, 0.0000, 0.0000, 0.0000, 0.0000, 0.0000, 0.0000, 0.0000,\n",
       "         0.0000, 0.0000, 0.0000, 0.0000, 0.0000, 0.0000, 0.0000, 0.0000, 0.0000,\n",
       "         0.0000],\n",
       "        [0.0000, 0.0000, 0.0000, 0.0000, 0.0000, 0.0000, 0.0000, 0.0000, 0.0000,\n",
       "         0.0000, 0.0000, 0.0000, 0.0000, 0.0000, 0.0000, 0.0000, 0.0000, 0.0000,\n",
       "         0.0000, 0.0000, 0.0000, 0.0000, 0.0000, 0.0000, 0.0000, 0.0000, 0.0000,\n",
       "         0.0000],\n",
       "        [0.0000, 0.0000, 0.0000, 0.0000, 0.0000, 0.0000, 0.0000, 0.0000, 0.0000,\n",
       "         0.0000, 0.0000, 0.0000, 0.0000, 0.0000, 0.0000, 0.0000, 0.0000, 0.0000,\n",
       "         0.0000, 0.0000, 0.0000, 0.0000, 0.0000, 0.0000, 0.0000, 0.0000, 0.0000,\n",
       "         0.0000]])"
      ]
     },
     "execution_count": 38,
     "metadata": {},
     "output_type": "execute_result"
    }
   ],
   "source": [
    "x[0, 0]"
   ]
  },
  {
   "cell_type": "code",
   "execution_count": 39,
   "metadata": {},
   "outputs": [],
   "source": [
    "# hyperparameters\n",
    "input_size = 28 * 28\n",
    "hidden_sizes = [64, 32, 16]\n",
    "latent_size = 8\n",
    "output_size = input_size"
   ]
  },
  {
   "cell_type": "code",
   "execution_count": 40,
   "metadata": {},
   "outputs": [
    {
     "data": {
      "text/plain": [
       "==========================================================================================\n",
       "Layer (type:depth-idx)                   Output Shape              Param #\n",
       "==========================================================================================\n",
       "AutoEncoder                              [1, 8]                    --\n",
       "├─Sequential: 1-1                        [1, 8]                    --\n",
       "│    └─Linear: 2-1                       [1, 64]                   50,240\n",
       "│    └─ReLU: 2-2                         [1, 64]                   --\n",
       "│    └─Linear: 2-3                       [1, 32]                   2,080\n",
       "│    └─ReLU: 2-4                         [1, 32]                   --\n",
       "│    └─Linear: 2-5                       [1, 16]                   528\n",
       "│    └─ReLU: 2-6                         [1, 16]                   --\n",
       "│    └─Linear: 2-7                       [1, 8]                    136\n",
       "├─Sequential: 1-2                        [1, 784]                  --\n",
       "│    └─Linear: 2-8                       [1, 16]                   144\n",
       "│    └─ReLU: 2-9                         [1, 16]                   --\n",
       "│    └─Linear: 2-10                      [1, 32]                   544\n",
       "│    └─ReLU: 2-11                        [1, 32]                   --\n",
       "│    └─Linear: 2-12                      [1, 64]                   2,112\n",
       "│    └─ReLU: 2-13                        [1, 64]                   --\n",
       "│    └─Linear: 2-14                      [1, 784]                  50,960\n",
       "│    └─Sigmoid: 2-15                     [1, 784]                  --\n",
       "==========================================================================================\n",
       "Total params: 106,744\n",
       "Trainable params: 106,744\n",
       "Non-trainable params: 0\n",
       "Total mult-adds (M): 0.11\n",
       "==========================================================================================\n",
       "Input size (MB): 0.00\n",
       "Forward/backward pass size (MB): 0.01\n",
       "Params size (MB): 0.43\n",
       "Estimated Total Size (MB): 0.44\n",
       "=========================================================================================="
      ]
     },
     "execution_count": 40,
     "metadata": {},
     "output_type": "execute_result"
    }
   ],
   "source": [
    "class AutoEncoder(nn.Module):\n",
    "    def __init__(self, input_size=input_size, hidden_sizes=hidden_sizes, latent_size=latent_size, output_size=output_size):\n",
    "        super().__init__()\n",
    "\n",
    "        self.encoder = nn.Sequential(\n",
    "            nn.Linear(input_size, hidden_sizes[0]),\n",
    "            nn.ReLU(),\n",
    "            nn.Linear(hidden_sizes[0], hidden_sizes[1]),\n",
    "            nn.ReLU(),\n",
    "            nn.Linear(hidden_sizes[1], hidden_sizes[2]),\n",
    "            nn.ReLU(),\n",
    "            nn.Linear(hidden_sizes[2], latent_size)\n",
    "        )\n",
    "\n",
    "        self.decoder = nn.Sequential(\n",
    "            nn.Linear(latent_size, hidden_sizes[2]),\n",
    "            nn.ReLU(),\n",
    "            nn.Linear(hidden_sizes[2], hidden_sizes[1]),\n",
    "            nn.ReLU(),\n",
    "            nn.Linear(hidden_sizes[1], hidden_sizes[0]),\n",
    "            nn.ReLU(),\n",
    "            nn.Linear(hidden_sizes[0], output_size),\n",
    "            nn.Sigmoid()\n",
    "        )\n",
    "\n",
    "    def forward(self, x):\n",
    "        latent = self.encoder(x)\n",
    "        reconstruction = self.decoder(latent)\n",
    "\n",
    "        return latent, reconstruction\n",
    "    \n",
    "model = AutoEncoder().to(device)\n",
    "summary(model, (1, 784))"
   ]
  },
  {
   "cell_type": "code",
   "execution_count": 41,
   "metadata": {},
   "outputs": [],
   "source": [
    "mse_loss = nn.MSELoss() # con: likes to make things blurry\n",
    "ssim_loss = SSIM(n_channels=1)\n",
    "optimizer = torch.optim.Adam(params=model.parameters(), lr=1e-4)"
   ]
  },
  {
   "cell_type": "code",
   "execution_count": 42,
   "metadata": {},
   "outputs": [
    {
     "name": "stderr",
     "output_type": "stream",
     "text": [
      "  0%|          | 0/10 [00:00<?, ?it/s]"
     ]
    },
    {
     "name": "stdout",
     "output_type": "stream",
     "text": [
      "Epoch: 0\n",
      "------\n",
      "Train Loss: 0.8459\n"
     ]
    },
    {
     "name": "stderr",
     "output_type": "stream",
     "text": [
      " 10%|█         | 1/10 [00:30<04:31, 30.12s/it]"
     ]
    },
    {
     "name": "stdout",
     "output_type": "stream",
     "text": [
      "Test Loss: 0.9429\n",
      "Epoch: 1\n",
      "------\n",
      "Train Loss: 0.6390\n"
     ]
    },
    {
     "name": "stderr",
     "output_type": "stream",
     "text": [
      " 20%|██        | 2/10 [01:01<04:05, 30.73s/it]"
     ]
    },
    {
     "name": "stdout",
     "output_type": "stream",
     "text": [
      "Test Loss: 0.9240\n",
      "Epoch: 2\n",
      "------\n",
      "Train Loss: 0.5997\n"
     ]
    },
    {
     "name": "stderr",
     "output_type": "stream",
     "text": [
      " 30%|███       | 3/10 [01:30<03:29, 29.98s/it]"
     ]
    },
    {
     "name": "stdout",
     "output_type": "stream",
     "text": [
      "Test Loss: 0.9226\n",
      "Epoch: 3\n",
      "------\n",
      "Train Loss: 0.5807\n"
     ]
    },
    {
     "name": "stderr",
     "output_type": "stream",
     "text": [
      " 40%|████      | 4/10 [01:59<02:57, 29.61s/it]"
     ]
    },
    {
     "name": "stdout",
     "output_type": "stream",
     "text": [
      "Test Loss: 0.9218\n",
      "Epoch: 4\n",
      "------\n",
      "Train Loss: 0.5616\n"
     ]
    },
    {
     "name": "stderr",
     "output_type": "stream",
     "text": [
      " 50%|█████     | 5/10 [02:27<02:24, 28.90s/it]"
     ]
    },
    {
     "name": "stdout",
     "output_type": "stream",
     "text": [
      "Test Loss: 0.9335\n",
      "Epoch: 5\n",
      "------\n",
      "Train Loss: 0.5463\n"
     ]
    },
    {
     "name": "stderr",
     "output_type": "stream",
     "text": [
      " 60%|██████    | 6/10 [02:56<01:56, 29.09s/it]"
     ]
    },
    {
     "name": "stdout",
     "output_type": "stream",
     "text": [
      "Test Loss: 0.9297\n",
      "Epoch: 6\n",
      "------\n",
      "Train Loss: 0.5317\n"
     ]
    },
    {
     "name": "stderr",
     "output_type": "stream",
     "text": [
      " 70%|███████   | 7/10 [03:27<01:29, 29.81s/it]"
     ]
    },
    {
     "name": "stdout",
     "output_type": "stream",
     "text": [
      "Test Loss: 0.9206\n",
      "Epoch: 7\n",
      "------\n",
      "Train Loss: 0.5166\n"
     ]
    },
    {
     "name": "stderr",
     "output_type": "stream",
     "text": [
      " 80%|████████  | 8/10 [03:57<00:59, 29.73s/it]"
     ]
    },
    {
     "name": "stdout",
     "output_type": "stream",
     "text": [
      "Test Loss: 0.9299\n",
      "Epoch: 8\n",
      "------\n",
      "Train Loss: 0.5030\n"
     ]
    },
    {
     "name": "stderr",
     "output_type": "stream",
     "text": [
      " 90%|█████████ | 9/10 [04:24<00:28, 28.91s/it]"
     ]
    },
    {
     "name": "stdout",
     "output_type": "stream",
     "text": [
      "Test Loss: 0.9281\n",
      "Epoch: 9\n",
      "------\n",
      "Train Loss: 0.4913\n"
     ]
    },
    {
     "name": "stderr",
     "output_type": "stream",
     "text": [
      "100%|██████████| 10/10 [04:53<00:00, 29.36s/it]"
     ]
    },
    {
     "name": "stdout",
     "output_type": "stream",
     "text": [
      "Test Loss: 0.9266\n"
     ]
    },
    {
     "name": "stderr",
     "output_type": "stream",
     "text": [
      "\n"
     ]
    }
   ],
   "source": [
    "torch.manual_seed(42)\n",
    "\n",
    "epochs = 10\n",
    "\n",
    "for epoch in tqdm(range(epochs)):\n",
    "    print(f\"Epoch: {epoch}\\n------\")\n",
    "    \n",
    "    # TRAINING\n",
    "    train_loss =  0\n",
    "    model.train()\n",
    "    for batch, (X, y) in enumerate(train_dl):\n",
    "\n",
    "        X = X.reshape(-1, 28 * 28).to(device)\n",
    "\n",
    "        # forward pass\n",
    "        train_latent, train_reconstructions = model(X)\n",
    "\n",
    "        # metrics\n",
    "        loss = mse_loss(train_reconstructions, X) + 1 - ssim_loss(train_reconstructions.reshape(-1, 1, 28, 28), X.reshape(-1, 1, 28, 28))\n",
    "        train_loss += loss\n",
    "\n",
    "        # backprop\n",
    "        optimizer.zero_grad()\n",
    "        loss.backward()\n",
    "        optimizer.step()\n",
    "    \n",
    "    # print metrics\n",
    "    train_loss /= len(train_dl)\n",
    "    print(f\"Train Loss: {train_loss:.4f}\")\n",
    "\n",
    "    \n",
    "    # TESTING\n",
    "    test_loss = 0\n",
    "    model.eval()\n",
    "    with torch.inference_mode():\n",
    "        for X, y in test_dl:\n",
    "\n",
    "            X = X.reshape(-1, 28 * 28).to(device)\n",
    "\n",
    "\n",
    "            # forward pass\n",
    "            test_latent, test_reconstructions = model(X)\n",
    "\n",
    "            # metrics\n",
    "            test_loss += mse_loss(test_reconstructions, X) + 1 - ssim_loss(train_reconstructions.reshape(-1, 1, 28, 28), X.reshape(-1, 1, 28, 28))\n",
    "\n",
    "        # print metrics\n",
    "        test_loss /= len(test_dl)\n",
    "        print(f\"Test Loss: {test_loss:.4f}\")"
   ]
  },
  {
   "cell_type": "code",
   "execution_count": 50,
   "metadata": {},
   "outputs": [
    {
     "data": {
      "text/plain": [
       "<matplotlib.image.AxesImage at 0x7f42780cc160>"
      ]
     },
     "execution_count": 50,
     "metadata": {},
     "output_type": "execute_result"
    },
    {
     "data": {
      "image/png": "[encoded data removed]",
      "text/plain": [
       "<Figure size 1500x800 with 2 Axes>"
      ]
     },
     "metadata": {},
     "output_type": "display_data"
    }
   ],
   "source": [
    "X, y = next(iter(train_dl))\n",
    "X, y = X[0, :, :].reshape(1, 28*28).to(device), y[0].to(device)\n",
    "\n",
    "sample_latent, sample_reconstruction = model(X)\n",
    "sample_reconstruction = sample_reconstruction.reshape(28, 28).detach().cpu().numpy()\n",
    "\n",
    "X_img = X.reshape(28, 28).detach().cpu().numpy()\n",
    "\n",
    "plt.figure(figsize=(15, 8))\n",
    "\n",
    "plt.subplot(121)\n",
    "plt.imshow(sample_reconstruction, cmap=\"gray\")\n",
    "\n",
    "plt.subplot(122)\n",
    "plt.imshow(X_img, cmap=\"gray\")"
   ]
  },
  {
   "cell_type": "code",
   "execution_count": 44,
   "metadata": {},
   "outputs": [],
   "source": [
    "# save_model(model, \"ae.safetensors\")"
   ]
  }
 ],
 "metadata": {
  "kernelspec": {
   "display_name": "base",
   "language": "python",
   "name": "python3"
  },
  "language_info": {
   "codemirror_mode": {
    "name": "ipython",
    "version": 3
   },
   "file_extension": ".py",
   "mimetype": "text/x-python",
   "name": "python",
   "nbconvert_exporter": "python",
   "pygments_lexer": "ipython3",
   "version": "3.9.21"
  }
 },
 "nbformat": 4,
 "nbformat_minor": 2
}
