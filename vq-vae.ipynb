{
 "cells": [
  {
   "cell_type": "code",
   "execution_count": 1,
   "metadata": {},
   "outputs": [],
   "source": [
    "from tqdm import tqdm\n",
    "import torch\n",
    "from torch import nn\n",
    "from torch.utils.data import DataLoader, Dataset, random_split\n",
    "from torchvision import datasets, transforms\n",
    "import torch.nn.functional as F\n",
    "import numpy as np\n",
    "import pandas as pd\n",
    "from torchinfo import summary\n",
    "from safetensors.torch import save_model, load_model\n",
    "import matplotlib.pyplot as plt\n",
    "import cv2"
   ]
  },
  {
   "cell_type": "code",
   "execution_count": 2,
   "metadata": {},
   "outputs": [
    {
     "data": {
      "text/plain": [
       "'cuda'"
      ]
     },
     "execution_count": 2,
     "metadata": {},
     "output_type": "execute_result"
    }
   ],
   "source": [
    "device = \"cuda\" if torch.cuda.is_available() else \"cpu\"\n",
    "device"
   ]
  },
  {
   "cell_type": "markdown",
   "metadata": {},
   "source": [
    "### Data Manipulation"
   ]
  },
  {
   "cell_type": "code",
   "execution_count": 3,
   "metadata": {},
   "outputs": [],
   "source": [
    "data_transforms = transforms.Compose([\n",
    "    transforms.Resize((128, 128)),\n",
    "    transforms.ToTensor(),\n",
    "])"
   ]
  },
  {
   "cell_type": "code",
   "execution_count": 4,
   "metadata": {},
   "outputs": [],
   "source": [
    "dataset = datasets.ImageFolder(root=\"data/Skyfinder/picked\", transform=data_transforms)\n",
    "\n",
    "train_dataset, test_dataset = random_split(dataset, [0.8, 0.2])"
   ]
  },
  {
   "cell_type": "code",
   "execution_count": 5,
   "metadata": {},
   "outputs": [],
   "source": [
    "batch_size = 16\n",
    "\n",
    "# put custom dataset to dataloader\n",
    "train_dl = DataLoader(train_dataset, batch_size=batch_size, shuffle=True)\n",
    "test_dl = DataLoader(test_dataset, batch_size=batch_size, shuffle=True)"
   ]
  },
  {
   "cell_type": "code",
   "execution_count": 6,
   "metadata": {},
   "outputs": [
    {
     "data": {
      "text/plain": [
       "(torch.Size([16, 3, 128, 128]), torch.Size([16]))"
      ]
     },
     "execution_count": 6,
     "metadata": {},
     "output_type": "execute_result"
    }
   ],
   "source": [
    "# check shapes of dataloader\n",
    "feature, label = next(iter(train_dl))\n",
    "feature.shape, label.shape"
   ]
  },
  {
   "cell_type": "markdown",
   "metadata": {},
   "source": [
    "### Create Model"
   ]
  },
  {
   "cell_type": "markdown",
   "metadata": {},
   "source": [
    "A VQ-VAE is just like an VAE but vectors instead are used in a similar fashion to KNN."
   ]
  },
  {
   "cell_type": "code",
   "execution_count": 7,
   "metadata": {},
   "outputs": [],
   "source": [
    "# hyperparameters\n",
    "\n",
    "input_dim = 3\n",
    "output_dim = input_dim\n",
    "hidden_dim = 1024\n",
    "latent_dim = 128\n",
    "n_embeddings = 512\n",
    "beta = 0.25"
   ]
  },
  {
   "cell_type": "code",
   "execution_count": 8,
   "metadata": {},
   "outputs": [],
   "source": [
    "class Encoder(nn.Module):\n",
    "\n",
    "    def __init__(self, input_dim=input_dim, hidden_dim=hidden_dim, output_dim=latent_dim, kernel_sizes=(4, 4, 3, 1), stride=2):\n",
    "        super(Encoder, self).__init__()\n",
    "\n",
    "        kernel_1, kernel_2, kernel_3, kernel_4 = kernel_sizes\n",
    "\n",
    "        self.stride_conv_1 = nn.Conv2d(input_dim, hidden_dim, kernel_size=kernel_1, stride=stride, padding=1)\n",
    "        self.stride_conv_2 = nn.Conv2d(hidden_dim, hidden_dim, kernel_size=kernel_2, stride=stride, padding=1)\n",
    "\n",
    "        self.residual_conv_1 = nn.Conv2d(hidden_dim, hidden_dim, kernel_3, padding=1)\n",
    "        self.residual_conv_2 = nn.Conv2d(hidden_dim, hidden_dim, kernel_4)\n",
    "\n",
    "        self.proj = nn.Conv2d(hidden_dim, output_dim, kernel_4)\n",
    "\n",
    "        self.relu = nn.ReLU()\n",
    "\n",
    "    def forward(self, x):\n",
    "        x = self.stride_conv_1(x)\n",
    "        x = self.stride_conv_2(x)\n",
    "\n",
    "        x = self.relu(x)\n",
    "        y = self.residual_conv_1(x)\n",
    "        y = y+x\n",
    "\n",
    "        x = self.relu(y)\n",
    "        x = self.residual_conv_2(x)\n",
    "        y = y+x\n",
    "\n",
    "        y = self.proj(y)\n",
    "\n",
    "        return y"
   ]
  },
  {
   "cell_type": "code",
   "execution_count": 9,
   "metadata": {},
   "outputs": [],
   "source": [
    "class VQEmbeddingEMA(nn.Module):\n",
    "    def __init__(self, n_embeddings=n_embeddings, embedding_dim=latent_dim, commitment_cost=beta, decay=0.99, epsilon=1e-5):\n",
    "        super(VQEmbeddingEMA, self).__init__()\n",
    "\n",
    "        self.commitment_cost= commitment_cost\n",
    "        self.decay = decay\n",
    "        self.epsilon = epsilon\n",
    "\n",
    "        init_bound = 1 / n_embeddings\n",
    "        embedding = torch.Tensor(n_embeddings, embedding_dim)\n",
    "        embedding.uniform_(-init_bound, init_bound)\n",
    "\n",
    "        self.register_buffer(\"embedding\", embedding)\n",
    "        self.register_buffer(\"ema_count\", torch.zeros(n_embeddings))\n",
    "        self.register_buffer(\"ema_weight\", self.embedding.clone())\n",
    "    \n",
    "    def get_random_codebook(self, random_indices):\n",
    "        quantized = F.embedding(random_indices, self.embedding)\n",
    "        quantized = quantized.transpose(1, 3)\n",
    "\n",
    "        return quantized\n",
    "    \n",
    "    def forward(self, x):\n",
    "        m, d = self.embedding.size()\n",
    "        x_flat = x.detach().reshape(-1, d)\n",
    "\n",
    "        distances = (-torch.cdist(x_flat, self.embedding)) ** 2\n",
    "\n",
    "        indices = torch.argmin(distances.float(), dim=-1)\n",
    "        encodings = F.one_hot(indices, m).float()\n",
    "        quantized = F.embedding(indices, self.embedding)\n",
    "        quantized = quantized.view_as(x)\n",
    "\n",
    "        if self.training:\n",
    "            self.ema_count = self.decay * self.ema_count + (1- self.decay) * torch.sum(encodings, dim=0)\n",
    "            n = torch.sum(self.ema_count)\n",
    "            self.ema_count = (self.ema_count + self.epsilon) / (n + m * self.epsilon) * n\n",
    "\n",
    "            dw = torch.matmul(encodings.t(), x_flat)\n",
    "            self.ema_weight = self.decay * self.ema_weight + (1 - self.decay) * dw\n",
    "            self.embedding = self.ema_weight / self.ema_count.unsqueeze(-1)\n",
    "\n",
    "        codebook_loss = F.mse_loss(x.detach(), quantized)\n",
    "        e_latent_loss = F.mse_loss(x, quantized.detach())\n",
    "        commitment_loss = self.commitment_cost * e_latent_loss\n",
    "\n",
    "        quantized = x + (quantized - x).detach()\n",
    "\n",
    "        avg_probs = torch.mean(encodings, dim=0)\n",
    "        perplexity = torch.exp(-torch.sum(avg_probs * torch.log(avg_probs+1e-10)))\n",
    "\n",
    "        return quantized, commitment_loss, codebook_loss, perplexity"
   ]
  },
  {
   "cell_type": "code",
   "execution_count": 10,
   "metadata": {},
   "outputs": [],
   "source": [
    "class Decoder(nn.Module):\n",
    "    def __init__(self, input_dim=latent_dim, hidden_dim=hidden_dim, output_dim=output_dim, kernel_sizes=(1, 3, 2, 2), stride=2):\n",
    "        super(Decoder, self).__init__()\n",
    "\n",
    "        kernel_1, kernel_2, kernel_3, kernel_4 = kernel_sizes\n",
    "\n",
    "        self.inv_proj = nn.Conv2d(input_dim, hidden_dim, kernel_size=1)\n",
    "\n",
    "        self.residual_conv_1 = nn.Conv2d(hidden_dim, hidden_dim, kernel_size=kernel_1)\n",
    "        self.residual_conv_2 = nn.Conv2d(hidden_dim, hidden_dim, kernel_size=kernel_2, padding=1)\n",
    "\n",
    "        self.stride_transconv_1 = nn.ConvTranspose2d(hidden_dim, hidden_dim, stride=stride, kernel_size=kernel_3)\n",
    "        self.stride_transconv_2 = nn.ConvTranspose2d(hidden_dim, output_dim, stride=stride, kernel_size=kernel_4)\n",
    "\n",
    "        self.relu = nn.ReLU()\n",
    "\n",
    "    def forward(self, x):\n",
    "        x = self.inv_proj(x)\n",
    "\n",
    "        y = self.residual_conv_1(x)\n",
    "        y = y + x\n",
    "        x = self.relu(y)\n",
    "\n",
    "        y = self.residual_conv_2(x)\n",
    "        y = y + x\n",
    "        x = self.relu(y)\n",
    "\n",
    "        x = self.stride_transconv_1(x)\n",
    "        x = self.stride_transconv_2(x)\n",
    "\n",
    "        return x"
   ]
  },
  {
   "cell_type": "code",
   "execution_count": 11,
   "metadata": {},
   "outputs": [],
   "source": [
    "class VQVAE(nn.Module):\n",
    "    def __init__(self, encoder, codebook, decoder):\n",
    "        super(VQVAE, self).__init__()\n",
    "\n",
    "        self.encoder = encoder\n",
    "        self.codebook = codebook\n",
    "        self.decoder = decoder\n",
    "\n",
    "    def forward(self, x):\n",
    "        x = self.encoder(x)\n",
    "        quantized_z, commitment_loss, codebook_loss, perplexity = self.codebook(x)\n",
    "        x = self.decoder(quantized_z)\n",
    "\n",
    "        return x, commitment_loss, codebook_loss, perplexity"
   ]
  },
  {
   "cell_type": "code",
   "execution_count": 12,
   "metadata": {},
   "outputs": [
    {
     "data": {
      "text/plain": [
       "==========================================================================================\n",
       "Layer (type:depth-idx)                   Output Shape              Param #\n",
       "==========================================================================================\n",
       "VQVAE                                    [16, 3, 128, 128]         --\n",
       "├─Encoder: 1-1                           [16, 128, 32, 32]         --\n",
       "│    └─Conv2d: 2-1                       [16, 1024, 64, 64]        50,176\n",
       "│    └─Conv2d: 2-2                       [16, 1024, 32, 32]        16,778,240\n",
       "│    └─ReLU: 2-3                         [16, 1024, 32, 32]        --\n",
       "│    └─Conv2d: 2-4                       [16, 1024, 32, 32]        9,438,208\n",
       "│    └─ReLU: 2-5                         [16, 1024, 32, 32]        --\n",
       "│    └─Conv2d: 2-6                       [16, 1024, 32, 32]        1,049,600\n",
       "│    └─Conv2d: 2-7                       [16, 128, 32, 32]         131,200\n",
       "├─VQEmbeddingEMA: 1-2                    [16, 128, 32, 32]         --\n",
       "├─Decoder: 1-3                           [16, 3, 128, 128]         --\n",
       "│    └─Conv2d: 2-8                       [16, 1024, 32, 32]        132,096\n",
       "│    └─Conv2d: 2-9                       [16, 1024, 32, 32]        1,049,600\n",
       "│    └─ReLU: 2-10                        [16, 1024, 32, 32]        --\n",
       "│    └─Conv2d: 2-11                      [16, 1024, 32, 32]        9,438,208\n",
       "│    └─ReLU: 2-12                        [16, 1024, 32, 32]        --\n",
       "│    └─ConvTranspose2d: 2-13             [16, 1024, 64, 64]        4,195,328\n",
       "│    └─ConvTranspose2d: 2-14             [16, 3, 128, 128]         12,291\n",
       "==========================================================================================\n",
       "Total params: 42,274,947\n",
       "Trainable params: 42,274,947\n",
       "Non-trainable params: 0\n",
       "Total mult-adds (G): 904.33\n",
       "==========================================================================================\n",
       "Input size (MB): 3.15\n",
       "Forward/backward pass size (MB): 1902.12\n",
       "Params size (MB): 169.10\n",
       "Estimated Total Size (MB): 2074.36\n",
       "=========================================================================================="
      ]
     },
     "execution_count": 12,
     "metadata": {},
     "output_type": "execute_result"
    }
   ],
   "source": [
    "encoder = Encoder()\n",
    "codebook = VQEmbeddingEMA()\n",
    "decoder = Decoder()\n",
    "\n",
    "model = VQVAE(encoder=encoder, codebook=codebook, decoder=decoder).to(device)\n",
    "summary(model, input_size=(16, 3, 128, 128), device=device)"
   ]
  },
  {
   "cell_type": "markdown",
   "metadata": {},
   "source": [
    "### Loss Function and Optimizer"
   ]
  },
  {
   "cell_type": "code",
   "execution_count": 13,
   "metadata": {},
   "outputs": [],
   "source": [
    "loss_fn = nn.MSELoss()\n",
    "optimizer = torch.optim.Adam(model.parameters(), lr=1e-5)"
   ]
  },
  {
   "cell_type": "markdown",
   "metadata": {},
   "source": [
    "### Training Model"
   ]
  },
  {
   "cell_type": "code",
   "execution_count": 14,
   "metadata": {},
   "outputs": [
    {
     "name": "stderr",
     "output_type": "stream",
     "text": [
      "  0%|          | 0/50 [00:00<?, ?it/s]"
     ]
    },
    {
     "name": "stdout",
     "output_type": "stream",
     "text": [
      "Epoch: 0\n",
      "------\n",
      "Train Loss: 0.1319, Complexity: 14.6321\n"
     ]
    },
    {
     "name": "stderr",
     "output_type": "stream",
     "text": [
      "  2%|▏         | 1/50 [00:04<04:02,  4.95s/it]"
     ]
    },
    {
     "name": "stdout",
     "output_type": "stream",
     "text": [
      "Test Loss: 0.1176, Complexity: 12.9277\n",
      "Epoch: 1\n",
      "------\n",
      "Train Loss: 0.0631, Complexity: 22.4603\n"
     ]
    },
    {
     "name": "stderr",
     "output_type": "stream",
     "text": [
      "  4%|▍         | 2/50 [00:09<03:53,  4.86s/it]"
     ]
    },
    {
     "name": "stdout",
     "output_type": "stream",
     "text": [
      "Test Loss: 0.0577, Complexity: 22.7130\n",
      "Epoch: 2\n",
      "------\n",
      "Train Loss: 0.0563, Complexity: 38.6930\n"
     ]
    },
    {
     "name": "stderr",
     "output_type": "stream",
     "text": [
      "  6%|▌         | 3/50 [00:14<03:51,  4.93s/it]"
     ]
    },
    {
     "name": "stdout",
     "output_type": "stream",
     "text": [
      "Test Loss: 0.0569, Complexity: 44.2395\n",
      "Epoch: 3\n",
      "------\n",
      "Train Loss: 0.0687, Complexity: 25.6250\n"
     ]
    },
    {
     "name": "stderr",
     "output_type": "stream",
     "text": [
      "  8%|▊         | 4/50 [00:19<03:48,  4.97s/it]"
     ]
    },
    {
     "name": "stdout",
     "output_type": "stream",
     "text": [
      "Test Loss: 0.0983, Complexity: 12.5781\n",
      "Epoch: 4\n",
      "------\n",
      "Train Loss: 0.1020, Complexity: 20.9574\n"
     ]
    },
    {
     "name": "stderr",
     "output_type": "stream",
     "text": [
      " 10%|█         | 5/50 [00:24<03:44,  5.00s/it]"
     ]
    },
    {
     "name": "stdout",
     "output_type": "stream",
     "text": [
      "Test Loss: 0.1607, Complexity: 15.5744\n",
      "Epoch: 5\n",
      "------\n",
      "Train Loss: 0.1541, Complexity: 20.8688\n"
     ]
    },
    {
     "name": "stderr",
     "output_type": "stream",
     "text": [
      " 12%|█▏        | 6/50 [00:29<03:37,  4.95s/it]"
     ]
    },
    {
     "name": "stdout",
     "output_type": "stream",
     "text": [
      "Test Loss: 0.1847, Complexity: 29.5046\n",
      "Epoch: 6\n",
      "------\n",
      "Train Loss: 0.2149, Complexity: 18.5497\n"
     ]
    },
    {
     "name": "stderr",
     "output_type": "stream",
     "text": [
      " 14%|█▍        | 7/50 [00:34<03:31,  4.91s/it]"
     ]
    },
    {
     "name": "stdout",
     "output_type": "stream",
     "text": [
      "Test Loss: 0.2327, Complexity: 32.6932\n",
      "Epoch: 7\n",
      "------\n",
      "Train Loss: 0.2143, Complexity: 36.6958\n"
     ]
    },
    {
     "name": "stderr",
     "output_type": "stream",
     "text": [
      " 16%|█▌        | 8/50 [00:39<03:24,  4.87s/it]"
     ]
    },
    {
     "name": "stdout",
     "output_type": "stream",
     "text": [
      "Test Loss: 0.2115, Complexity: 22.8385\n",
      "Epoch: 8\n",
      "------\n",
      "Train Loss: 0.1664, Complexity: 34.7075\n"
     ]
    },
    {
     "name": "stderr",
     "output_type": "stream",
     "text": [
      " 18%|█▊        | 9/50 [00:44<03:18,  4.84s/it]"
     ]
    },
    {
     "name": "stdout",
     "output_type": "stream",
     "text": [
      "Test Loss: 0.1347, Complexity: 22.4536\n",
      "Epoch: 9\n",
      "------\n",
      "Train Loss: 0.1107, Complexity: 36.7222\n"
     ]
    },
    {
     "name": "stderr",
     "output_type": "stream",
     "text": [
      " 20%|██        | 10/50 [00:48<03:14,  4.85s/it]"
     ]
    },
    {
     "name": "stdout",
     "output_type": "stream",
     "text": [
      "Test Loss: 0.0916, Complexity: 19.8846\n",
      "Epoch: 10\n",
      "------\n",
      "Train Loss: 0.0823, Complexity: 23.8450\n"
     ]
    },
    {
     "name": "stderr",
     "output_type": "stream",
     "text": [
      " 22%|██▏       | 11/50 [00:54<03:11,  4.92s/it]"
     ]
    },
    {
     "name": "stdout",
     "output_type": "stream",
     "text": [
      "Test Loss: 0.0831, Complexity: 27.4768\n",
      "Epoch: 11\n",
      "------\n",
      "Train Loss: 0.0812, Complexity: 32.9151\n"
     ]
    },
    {
     "name": "stderr",
     "output_type": "stream",
     "text": [
      " 24%|██▍       | 12/50 [00:58<03:06,  4.90s/it]"
     ]
    },
    {
     "name": "stdout",
     "output_type": "stream",
     "text": [
      "Test Loss: 0.1176, Complexity: 30.9280\n",
      "Epoch: 12\n",
      "------\n",
      "Train Loss: 0.0777, Complexity: 40.4057\n"
     ]
    },
    {
     "name": "stderr",
     "output_type": "stream",
     "text": [
      " 26%|██▌       | 13/50 [01:03<03:01,  4.90s/it]"
     ]
    },
    {
     "name": "stdout",
     "output_type": "stream",
     "text": [
      "Test Loss: 0.0921, Complexity: 34.6920\n",
      "Epoch: 13\n",
      "------\n",
      "Train Loss: 0.0690, Complexity: 46.0745\n"
     ]
    },
    {
     "name": "stderr",
     "output_type": "stream",
     "text": [
      " 28%|██▊       | 14/50 [01:08<02:57,  4.93s/it]"
     ]
    },
    {
     "name": "stdout",
     "output_type": "stream",
     "text": [
      "Test Loss: 0.0696, Complexity: 24.5209\n",
      "Epoch: 14\n",
      "------\n",
      "Train Loss: 0.0663, Complexity: 51.8024\n"
     ]
    },
    {
     "name": "stderr",
     "output_type": "stream",
     "text": [
      " 30%|███       | 15/50 [01:13<02:52,  4.93s/it]"
     ]
    },
    {
     "name": "stdout",
     "output_type": "stream",
     "text": [
      "Test Loss: 0.0686, Complexity: 25.2521\n",
      "Epoch: 15\n",
      "------\n",
      "Train Loss: 0.0664, Complexity: 46.9898\n"
     ]
    },
    {
     "name": "stderr",
     "output_type": "stream",
     "text": [
      " 32%|███▏      | 16/50 [01:18<02:46,  4.88s/it]"
     ]
    },
    {
     "name": "stdout",
     "output_type": "stream",
     "text": [
      "Test Loss: 0.0693, Complexity: 24.3384\n",
      "Epoch: 16\n",
      "------\n",
      "Train Loss: 0.0662, Complexity: 48.7565\n"
     ]
    },
    {
     "name": "stderr",
     "output_type": "stream",
     "text": [
      " 34%|███▍      | 17/50 [01:23<02:40,  4.85s/it]"
     ]
    },
    {
     "name": "stdout",
     "output_type": "stream",
     "text": [
      "Test Loss: 0.0700, Complexity: 44.2073\n",
      "Epoch: 17\n",
      "------\n",
      "Train Loss: 0.0643, Complexity: 50.7884\n"
     ]
    },
    {
     "name": "stderr",
     "output_type": "stream",
     "text": [
      " 36%|███▌      | 18/50 [01:28<02:35,  4.86s/it]"
     ]
    },
    {
     "name": "stdout",
     "output_type": "stream",
     "text": [
      "Test Loss: 0.0751, Complexity: 39.6073\n",
      "Epoch: 18\n",
      "------\n",
      "Train Loss: 0.0616, Complexity: 77.2433\n"
     ]
    },
    {
     "name": "stderr",
     "output_type": "stream",
     "text": [
      " 38%|███▊      | 19/50 [01:33<02:31,  4.88s/it]"
     ]
    },
    {
     "name": "stdout",
     "output_type": "stream",
     "text": [
      "Test Loss: 0.0580, Complexity: 33.0210\n",
      "Epoch: 19\n",
      "------\n",
      "Train Loss: 0.0609, Complexity: 61.9661\n"
     ]
    },
    {
     "name": "stderr",
     "output_type": "stream",
     "text": [
      " 40%|████      | 20/50 [01:37<02:26,  4.88s/it]"
     ]
    },
    {
     "name": "stdout",
     "output_type": "stream",
     "text": [
      "Test Loss: 0.0794, Complexity: 38.0645\n",
      "Epoch: 20\n",
      "------\n",
      "Train Loss: 0.0597, Complexity: 59.7716\n"
     ]
    },
    {
     "name": "stderr",
     "output_type": "stream",
     "text": [
      " 42%|████▏     | 21/50 [01:42<02:21,  4.89s/it]"
     ]
    },
    {
     "name": "stdout",
     "output_type": "stream",
     "text": [
      "Test Loss: 0.0597, Complexity: 41.4726\n",
      "Epoch: 21\n",
      "------\n",
      "Train Loss: 0.0573, Complexity: 65.9632\n"
     ]
    },
    {
     "name": "stderr",
     "output_type": "stream",
     "text": [
      " 44%|████▍     | 22/50 [01:47<02:18,  4.94s/it]"
     ]
    },
    {
     "name": "stdout",
     "output_type": "stream",
     "text": [
      "Test Loss: 0.0658, Complexity: 43.9712\n",
      "Epoch: 22\n",
      "------\n",
      "Train Loss: 0.0561, Complexity: 44.2174\n"
     ]
    },
    {
     "name": "stderr",
     "output_type": "stream",
     "text": [
      " 46%|████▌     | 23/50 [01:52<02:13,  4.93s/it]"
     ]
    },
    {
     "name": "stdout",
     "output_type": "stream",
     "text": [
      "Test Loss: 0.0713, Complexity: 39.6729\n",
      "Epoch: 23\n",
      "------\n",
      "Train Loss: 0.0538, Complexity: 63.9849\n"
     ]
    },
    {
     "name": "stderr",
     "output_type": "stream",
     "text": [
      " 48%|████▊     | 24/50 [01:57<02:07,  4.89s/it]"
     ]
    },
    {
     "name": "stdout",
     "output_type": "stream",
     "text": [
      "Test Loss: 0.0579, Complexity: 27.9792\n",
      "Epoch: 24\n",
      "------\n",
      "Train Loss: 0.0520, Complexity: 64.6089\n"
     ]
    },
    {
     "name": "stderr",
     "output_type": "stream",
     "text": [
      " 50%|█████     | 25/50 [02:02<02:01,  4.86s/it]"
     ]
    },
    {
     "name": "stdout",
     "output_type": "stream",
     "text": [
      "Test Loss: 0.0638, Complexity: 55.6671\n",
      "Epoch: 25\n",
      "------\n",
      "Train Loss: 0.0511, Complexity: 68.0565\n"
     ]
    },
    {
     "name": "stderr",
     "output_type": "stream",
     "text": [
      " 52%|█████▏    | 26/50 [02:07<01:56,  4.85s/it]"
     ]
    },
    {
     "name": "stdout",
     "output_type": "stream",
     "text": [
      "Test Loss: 0.0489, Complexity: 37.3145\n",
      "Epoch: 26\n",
      "------\n",
      "Train Loss: 0.0497, Complexity: 59.7230\n"
     ]
    },
    {
     "name": "stderr",
     "output_type": "stream",
     "text": [
      " 54%|█████▍    | 27/50 [02:12<01:52,  4.88s/it]"
     ]
    },
    {
     "name": "stdout",
     "output_type": "stream",
     "text": [
      "Test Loss: 0.0569, Complexity: 45.4937\n",
      "Epoch: 27\n",
      "------\n",
      "Train Loss: 0.0498, Complexity: 47.9466\n"
     ]
    },
    {
     "name": "stderr",
     "output_type": "stream",
     "text": [
      " 56%|█████▌    | 28/50 [02:17<01:49,  4.98s/it]"
     ]
    },
    {
     "name": "stdout",
     "output_type": "stream",
     "text": [
      "Test Loss: 0.0512, Complexity: 45.0491\n",
      "Epoch: 28\n",
      "------\n",
      "Train Loss: 0.0487, Complexity: 71.7867\n"
     ]
    },
    {
     "name": "stderr",
     "output_type": "stream",
     "text": [
      " 58%|█████▊    | 29/50 [02:22<01:45,  5.03s/it]"
     ]
    },
    {
     "name": "stdout",
     "output_type": "stream",
     "text": [
      "Test Loss: 0.0465, Complexity: 34.0767\n",
      "Epoch: 29\n",
      "------\n",
      "Train Loss: 0.0479, Complexity: 58.1923\n"
     ]
    },
    {
     "name": "stderr",
     "output_type": "stream",
     "text": [
      " 60%|██████    | 30/50 [02:27<01:40,  5.04s/it]"
     ]
    },
    {
     "name": "stdout",
     "output_type": "stream",
     "text": [
      "Test Loss: 0.0489, Complexity: 46.3075\n",
      "Epoch: 30\n",
      "------\n",
      "Train Loss: 0.0476, Complexity: 71.6977\n"
     ]
    },
    {
     "name": "stderr",
     "output_type": "stream",
     "text": [
      " 62%|██████▏   | 31/50 [02:32<01:36,  5.06s/it]"
     ]
    },
    {
     "name": "stdout",
     "output_type": "stream",
     "text": [
      "Test Loss: 0.0448, Complexity: 39.9377\n",
      "Epoch: 31\n",
      "------\n",
      "Train Loss: 0.0446, Complexity: 62.2791\n"
     ]
    },
    {
     "name": "stderr",
     "output_type": "stream",
     "text": [
      " 64%|██████▍   | 32/50 [02:37<01:30,  5.05s/it]"
     ]
    },
    {
     "name": "stdout",
     "output_type": "stream",
     "text": [
      "Test Loss: 0.0535, Complexity: 48.6061\n",
      "Epoch: 32\n",
      "------\n",
      "Train Loss: 0.0462, Complexity: 82.4038\n"
     ]
    },
    {
     "name": "stderr",
     "output_type": "stream",
     "text": [
      " 66%|██████▌   | 33/50 [02:42<01:25,  5.03s/it]"
     ]
    },
    {
     "name": "stdout",
     "output_type": "stream",
     "text": [
      "Test Loss: 0.0443, Complexity: 41.2778\n",
      "Epoch: 33\n",
      "------\n",
      "Train Loss: 0.0434, Complexity: 55.2139\n"
     ]
    },
    {
     "name": "stderr",
     "output_type": "stream",
     "text": [
      " 68%|██████▊   | 34/50 [02:47<01:20,  5.01s/it]"
     ]
    },
    {
     "name": "stdout",
     "output_type": "stream",
     "text": [
      "Test Loss: 0.0464, Complexity: 33.3211\n",
      "Epoch: 34\n",
      "------\n",
      "Train Loss: 0.0446, Complexity: 75.8473\n"
     ]
    },
    {
     "name": "stderr",
     "output_type": "stream",
     "text": [
      " 70%|███████   | 35/50 [02:52<01:14,  4.99s/it]"
     ]
    },
    {
     "name": "stdout",
     "output_type": "stream",
     "text": [
      "Test Loss: 0.0510, Complexity: 47.8707\n",
      "Epoch: 35\n",
      "------\n",
      "Train Loss: 0.0424, Complexity: 49.3187\n"
     ]
    },
    {
     "name": "stderr",
     "output_type": "stream",
     "text": [
      " 72%|███████▏  | 36/50 [02:57<01:09,  4.98s/it]"
     ]
    },
    {
     "name": "stdout",
     "output_type": "stream",
     "text": [
      "Test Loss: 0.0432, Complexity: 57.7813\n",
      "Epoch: 36\n",
      "------\n",
      "Train Loss: 0.0430, Complexity: 85.9167\n"
     ]
    },
    {
     "name": "stderr",
     "output_type": "stream",
     "text": [
      " 74%|███████▍  | 37/50 [03:02<01:04,  4.98s/it]"
     ]
    },
    {
     "name": "stdout",
     "output_type": "stream",
     "text": [
      "Test Loss: 0.0487, Complexity: 39.6875\n",
      "Epoch: 37\n",
      "------\n",
      "Train Loss: 0.0424, Complexity: 76.1683\n"
     ]
    },
    {
     "name": "stderr",
     "output_type": "stream",
     "text": [
      " 76%|███████▌  | 38/50 [03:07<00:59,  4.97s/it]"
     ]
    },
    {
     "name": "stdout",
     "output_type": "stream",
     "text": [
      "Test Loss: 0.0502, Complexity: 48.0081\n",
      "Epoch: 38\n",
      "------\n",
      "Train Loss: 0.0426, Complexity: 92.0233\n"
     ]
    },
    {
     "name": "stderr",
     "output_type": "stream",
     "text": [
      " 78%|███████▊  | 39/50 [03:12<00:54,  4.97s/it]"
     ]
    },
    {
     "name": "stdout",
     "output_type": "stream",
     "text": [
      "Test Loss: 0.0427, Complexity: 55.8026\n",
      "Epoch: 39\n",
      "------\n",
      "Train Loss: 0.0409, Complexity: 83.5515\n"
     ]
    },
    {
     "name": "stderr",
     "output_type": "stream",
     "text": [
      " 80%|████████  | 40/50 [03:17<00:49,  4.96s/it]"
     ]
    },
    {
     "name": "stdout",
     "output_type": "stream",
     "text": [
      "Test Loss: 0.0421, Complexity: 33.3793\n",
      "Epoch: 40\n",
      "------\n",
      "Train Loss: 0.0405, Complexity: 76.8263\n"
     ]
    },
    {
     "name": "stderr",
     "output_type": "stream",
     "text": [
      " 82%|████████▏ | 41/50 [03:22<00:44,  4.96s/it]"
     ]
    },
    {
     "name": "stdout",
     "output_type": "stream",
     "text": [
      "Test Loss: 0.0534, Complexity: 41.8824\n",
      "Epoch: 41\n",
      "------\n",
      "Train Loss: 0.0415, Complexity: 92.4528\n"
     ]
    },
    {
     "name": "stderr",
     "output_type": "stream",
     "text": [
      " 84%|████████▍ | 42/50 [03:27<00:39,  4.96s/it]"
     ]
    },
    {
     "name": "stdout",
     "output_type": "stream",
     "text": [
      "Test Loss: 0.0545, Complexity: 44.5727\n",
      "Epoch: 42\n",
      "------\n",
      "Train Loss: 0.0424, Complexity: 107.7110\n"
     ]
    },
    {
     "name": "stderr",
     "output_type": "stream",
     "text": [
      " 86%|████████▌ | 43/50 [03:32<00:34,  4.96s/it]"
     ]
    },
    {
     "name": "stdout",
     "output_type": "stream",
     "text": [
      "Test Loss: 0.0483, Complexity: 47.0920\n",
      "Epoch: 43\n",
      "------\n",
      "Train Loss: 0.0411, Complexity: 84.9714\n"
     ]
    },
    {
     "name": "stderr",
     "output_type": "stream",
     "text": [
      " 88%|████████▊ | 44/50 [03:37<00:29,  4.96s/it]"
     ]
    },
    {
     "name": "stdout",
     "output_type": "stream",
     "text": [
      "Test Loss: 0.0490, Complexity: 56.9834\n",
      "Epoch: 44\n",
      "------\n",
      "Train Loss: 0.0401, Complexity: 67.2005\n"
     ]
    },
    {
     "name": "stderr",
     "output_type": "stream",
     "text": [
      " 90%|█████████ | 45/50 [03:42<00:24,  4.96s/it]"
     ]
    },
    {
     "name": "stdout",
     "output_type": "stream",
     "text": [
      "Test Loss: 0.0386, Complexity: 38.4076\n",
      "Epoch: 45\n",
      "------\n",
      "Train Loss: 0.0397, Complexity: 71.2100\n"
     ]
    },
    {
     "name": "stderr",
     "output_type": "stream",
     "text": [
      " 92%|█████████▏| 46/50 [03:47<00:19,  4.96s/it]"
     ]
    },
    {
     "name": "stdout",
     "output_type": "stream",
     "text": [
      "Test Loss: 0.0462, Complexity: 53.6660\n",
      "Epoch: 46\n",
      "------\n",
      "Train Loss: 0.0386, Complexity: 49.9337\n"
     ]
    },
    {
     "name": "stderr",
     "output_type": "stream",
     "text": [
      " 94%|█████████▍| 47/50 [03:52<00:14,  4.96s/it]"
     ]
    },
    {
     "name": "stdout",
     "output_type": "stream",
     "text": [
      "Test Loss: 0.0393, Complexity: 51.1531\n",
      "Epoch: 47\n",
      "------\n",
      "Train Loss: 0.0399, Complexity: 75.1237\n"
     ]
    },
    {
     "name": "stderr",
     "output_type": "stream",
     "text": [
      " 96%|█████████▌| 48/50 [03:57<00:09,  4.96s/it]"
     ]
    },
    {
     "name": "stdout",
     "output_type": "stream",
     "text": [
      "Test Loss: 0.0392, Complexity: 36.1451\n",
      "Epoch: 48\n",
      "------\n",
      "Train Loss: 0.0406, Complexity: 135.1016\n"
     ]
    },
    {
     "name": "stderr",
     "output_type": "stream",
     "text": [
      " 98%|█████████▊| 49/50 [04:02<00:04,  4.96s/it]"
     ]
    },
    {
     "name": "stdout",
     "output_type": "stream",
     "text": [
      "Test Loss: 0.0441, Complexity: 48.5086\n",
      "Epoch: 49\n",
      "------\n",
      "Train Loss: 0.0396, Complexity: 57.0160\n"
     ]
    },
    {
     "name": "stderr",
     "output_type": "stream",
     "text": [
      "100%|██████████| 50/50 [04:07<00:00,  4.94s/it]"
     ]
    },
    {
     "name": "stdout",
     "output_type": "stream",
     "text": [
      "Test Loss: 0.0468, Complexity: 47.1850\n"
     ]
    },
    {
     "name": "stderr",
     "output_type": "stream",
     "text": [
      "\n"
     ]
    }
   ],
   "source": [
    "torch.manual_seed(42)\n",
    "\n",
    "epochs = 50\n",
    "\n",
    "for epoch in tqdm(range(epochs)):\n",
    "    print(f\"Epoch: {epoch}\\n------\")\n",
    "    \n",
    "    # TRAINING\n",
    "    train_loss =  0\n",
    "    model.train()\n",
    "    for batch, (X, y) in enumerate(train_dl):\n",
    "\n",
    "        X = X.to(device)\n",
    "\n",
    "        # forward pass\n",
    "        train_x_hat, train_commitment_loss, train_codebook_loss, train_complexity = model(X)\n",
    "\n",
    "        # metrics\n",
    "        loss = loss_fn(train_x_hat, X) + train_commitment_loss * beta + train_codebook_loss\n",
    "        train_loss += loss\n",
    "\n",
    "        # backprop\n",
    "        optimizer.zero_grad()\n",
    "        loss.backward()\n",
    "        optimizer.step()\n",
    "    \n",
    "    # print metrics\n",
    "    train_loss /= len(train_dl)\n",
    "    print(f\"Train Loss: {train_loss:.4f}, Complexity: {train_complexity:.4f}\")\n",
    "\n",
    "    \n",
    "    # TESTING\n",
    "    test_loss = 0\n",
    "    model.eval()\n",
    "    with torch.inference_mode():\n",
    "        for X, y in test_dl:\n",
    "\n",
    "            X = X.to(device)\n",
    "\n",
    "            # forward pass\n",
    "            test_x_hat, test_commitment_loss, test_codebook_loss, test_complexity = model(X)\n",
    "\n",
    "            # metrics\n",
    "            test_loss += loss_fn(test_x_hat, X) + test_commitment_loss * beta + test_codebook_loss\n",
    "\n",
    "        # print metrics\n",
    "        test_loss /= len(test_dl)\n",
    "        print(f\"Test Loss: {test_loss:.4f}, Complexity: {test_complexity:.4f}\")"
   ]
  },
  {
   "cell_type": "markdown",
   "metadata": {},
   "source": [
    "### Testing Model"
   ]
  },
  {
   "cell_type": "code",
   "execution_count": 27,
   "metadata": {},
   "outputs": [
    {
     "name": "stderr",
     "output_type": "stream",
     "text": [
      "Clipping input data to the valid range for imshow with RGB data ([0..1] for floats or [0..255] for integers).\n"
     ]
    },
    {
     "data": {
      "text/plain": [
       "<matplotlib.image.AxesImage at 0x24504219b20>"
      ]
     },
     "execution_count": 27,
     "metadata": {},
     "output_type": "execute_result"
    },
    {
     "data": {
      "image/png": "[encoded data removed]",
      "text/plain": [
       "<Figure size 1500x800 with 2 Axes>"
      ]
     },
     "metadata": {},
     "output_type": "display_data"
    }
   ],
   "source": [
    "model.eval()\n",
    "\n",
    "X, y = next(iter(train_dl))\n",
    "X, y = X[0, :, :].to(device), y[0].to(device)\n",
    "\n",
    "sample_reconst, sample_commitment_loss, sample_codebook_loss, sample_complexity = model(X)\n",
    "sample_reconst = sample_reconst.reshape(3, 128, 128).permute(1, 2, 0).detach().cpu().numpy()\n",
    "\n",
    "X_img = X.reshape(3, 128, 128).permute(1, 2, 0).detach().cpu().numpy()\n",
    "\n",
    "plt.figure(figsize=(15, 8))\n",
    "\n",
    "plt.subplot(121)\n",
    "plt.title(\"Reconstruction\")\n",
    "plt.imshow(sample_reconst)\n",
    "\n",
    "plt.subplot(122)\n",
    "plt.title(\"Ground Truth\")\n",
    "plt.imshow(X_img)"
   ]
  }
 ],
 "metadata": {
  "kernelspec": {
   "display_name": "base",
   "language": "python",
   "name": "python3"
  },
  "language_info": {
   "codemirror_mode": {
    "name": "ipython",
    "version": 3
   },
   "file_extension": ".py",
   "mimetype": "text/x-python",
   "name": "python",
   "nbconvert_exporter": "python",
   "pygments_lexer": "ipython3",
   "version": "3.9.19"
  }
 },
 "nbformat": 4,
 "nbformat_minor": 2
}
