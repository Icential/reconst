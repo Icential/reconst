{
 "cells": [
  {
   "cell_type": "code",
   "execution_count": 21,
   "metadata": {},
   "outputs": [],
   "source": [
    "from tqdm import tqdm\n",
    "import torch\n",
    "from torch import nn\n",
    "from torch.utils.data import DataLoader, Dataset, random_split\n",
    "from torchvision import datasets, transforms\n",
    "import numpy as np\n",
    "import pandas as pd\n",
    "from torchsummary import summary\n",
    "from safetensors.torch import save_model, load_model\n",
    "import matplotlib.pyplot as plt\n",
    "import cv2"
   ]
  },
  {
   "cell_type": "code",
   "execution_count": 22,
   "metadata": {},
   "outputs": [
    {
     "data": {
      "text/plain": [
       "'cuda'"
      ]
     },
     "execution_count": 22,
     "metadata": {},
     "output_type": "execute_result"
    }
   ],
   "source": [
    "device = \"cuda\" if torch.cuda.is_available() else \"cpu\"\n",
    "device"
   ]
  },
  {
   "cell_type": "markdown",
   "metadata": {},
   "source": [
    "### Data Manipulation"
   ]
  },
  {
   "cell_type": "code",
   "execution_count": 23,
   "metadata": {},
   "outputs": [],
   "source": [
    "data_transforms = transforms.Compose([\n",
    "    transforms.Resize((64, 64)),\n",
    "    transforms.ToTensor(),\n",
    "])"
   ]
  },
  {
   "cell_type": "code",
   "execution_count": 24,
   "metadata": {},
   "outputs": [],
   "source": [
    "dataset = datasets.ImageFolder(root=\"data/Skyfinder/picked\", transform=data_transforms)\n",
    "\n",
    "train_dataset, test_dataset = random_split(dataset, [0.8, 0.2])"
   ]
  },
  {
   "cell_type": "code",
   "execution_count": 25,
   "metadata": {},
   "outputs": [],
   "source": [
    "batch_size = 16\n",
    "\n",
    "# put custom dataset to dataloader\n",
    "train_dl = DataLoader(train_dataset, batch_size=batch_size, shuffle=True)\n",
    "test_dl = DataLoader(test_dataset, batch_size=batch_size, shuffle=True)"
   ]
  },
  {
   "cell_type": "code",
   "execution_count": 26,
   "metadata": {},
   "outputs": [
    {
     "data": {
      "text/plain": [
       "(torch.Size([16, 3, 64, 64]), torch.Size([16]))"
      ]
     },
     "execution_count": 26,
     "metadata": {},
     "output_type": "execute_result"
    }
   ],
   "source": [
    "# check shapes of dataloader\n",
    "feature, label = next(iter(train_dl))\n",
    "feature.shape, label.shape"
   ]
  },
  {
   "cell_type": "markdown",
   "metadata": {},
   "source": [
    "### Create Model"
   ]
  },
  {
   "cell_type": "markdown",
   "metadata": {},
   "source": [
    "A VAE is just like an Autoencoder but the latent vector is now represnted as Gaussians"
   ]
  },
  {
   "cell_type": "code",
   "execution_count": 27,
   "metadata": {},
   "outputs": [],
   "source": [
    "input_dim = 3*64*64\n",
    "output_dim = input_dim\n",
    "hidden_dim = 512\n",
    "latent_dim = 256"
   ]
  },
  {
   "cell_type": "code",
   "execution_count": 28,
   "metadata": {},
   "outputs": [],
   "source": [
    "class Encoder(nn.Module):\n",
    "    def __init__(self, input_dim=input_dim, hidden_dim=hidden_dim, latent_dim=latent_dim):\n",
    "        super(Encoder, self).__init__()\n",
    "\n",
    "        self.en_input = nn.Linear(input_dim, hidden_dim)\n",
    "        self.en_hidden = nn.Linear(hidden_dim, hidden_dim)\n",
    "        self.en_mean = nn.Linear(hidden_dim, latent_dim)\n",
    "        self.en_var = nn.Linear(hidden_dim, latent_dim)\n",
    "\n",
    "        self.relu = nn.ReLU()\n",
    "\n",
    "    def forward(self, x):\n",
    "        x = self.en_input(x)\n",
    "        x = self.relu(x)\n",
    "\n",
    "        x = self.en_hidden(x)\n",
    "        x = self.relu(x)\n",
    "\n",
    "        mean = self.en_mean(x) # means and variance under log\n",
    "        var = self.en_var(x)\n",
    "\n",
    "        return mean, var"
   ]
  },
  {
   "cell_type": "code",
   "execution_count": 29,
   "metadata": {},
   "outputs": [],
   "source": [
    "class Decoder(nn.Module):\n",
    "    def __init__(self, latent_dim=latent_dim, hidden_dim=hidden_dim, output_dim=input_dim):\n",
    "        super(Decoder, self).__init__()\n",
    "\n",
    "        self.de_input = nn.Linear(latent_dim, hidden_dim)\n",
    "        self.de_hidden = nn.Linear(hidden_dim, hidden_dim)\n",
    "        self.de_out = nn.Linear(hidden_dim, output_dim)\n",
    "\n",
    "        self.relu = nn.ReLU()\n",
    "\n",
    "    def forward(self, x):\n",
    "        x = self.de_input(x)\n",
    "        x = self.relu(x)\n",
    "\n",
    "        x = self.de_hidden(x)\n",
    "        x = self.relu(x)\n",
    "\n",
    "        x = self.de_out(x)\n",
    "        x = torch.sigmoid(x)\n",
    "\n",
    "        return x"
   ]
  },
  {
   "cell_type": "code",
   "execution_count": 30,
   "metadata": {},
   "outputs": [
    {
     "name": "stdout",
     "output_type": "stream",
     "text": [
      "----------------------------------------------------------------\n",
      "        Layer (type)               Output Shape         Param #\n",
      "================================================================\n",
      "            Linear-1              [-1, 16, 512]       6,291,968\n",
      "              ReLU-2              [-1, 16, 512]               0\n",
      "            Linear-3              [-1, 16, 512]         262,656\n",
      "              ReLU-4              [-1, 16, 512]               0\n",
      "            Linear-5              [-1, 16, 256]         131,328\n",
      "            Linear-6              [-1, 16, 256]         131,328\n",
      "           Encoder-7  [[-1, 16, 256], [-1, 16, 256]]               0\n",
      "            Linear-8              [-1, 16, 512]         131,584\n",
      "              ReLU-9              [-1, 16, 512]               0\n",
      "           Linear-10              [-1, 16, 512]         262,656\n",
      "             ReLU-11              [-1, 16, 512]               0\n",
      "           Linear-12            [-1, 16, 12288]       6,303,744\n",
      "          Decoder-13            [-1, 16, 12288]               0\n",
      "================================================================\n",
      "Total params: 13,515,264\n",
      "Trainable params: 13,515,264\n",
      "Non-trainable params: 0\n",
      "----------------------------------------------------------------\n",
      "Input size (MB): 0.75\n",
      "Forward/backward pass size (MB): 124.44\n",
      "Params size (MB): 51.56\n",
      "Estimated Total Size (MB): 176.74\n",
      "----------------------------------------------------------------\n"
     ]
    }
   ],
   "source": [
    "class VAE(nn.Module):\n",
    "    def __init__(self, Encoder, Decoder):\n",
    "        super(VAE, self).__init__()\n",
    "\n",
    "        self.Encoder = Encoder\n",
    "        self.Decoder = Decoder\n",
    "\n",
    "    def rep(self, mean, var):\n",
    "        e = torch.randn_like(var).to(device)\n",
    "        z = mean + var * e\n",
    "        return z\n",
    "    \n",
    "    def forward(self, x):\n",
    "        mean, var = self.Encoder(x)\n",
    "        z = self.rep(mean, torch.exp(0.5 * var)) # log var -> var\n",
    "        x = self.Decoder(z)\n",
    "\n",
    "        return x, mean, var\n",
    "\n",
    "encoder = Encoder()\n",
    "decoder = Decoder()\n",
    "model = VAE(Encoder=encoder, Decoder=decoder).to(device)\n",
    "\n",
    "summary(model, (16, input_dim))"
   ]
  },
  {
   "cell_type": "markdown",
   "metadata": {},
   "source": [
    "### Optimizer and Custom Loss Function"
   ]
  },
  {
   "cell_type": "code",
   "execution_count": 31,
   "metadata": {},
   "outputs": [],
   "source": [
    "def loss_fn(x, x_hat, mean, log_var):\n",
    "\n",
    "    # loss for reproduction\n",
    "    bce = nn.BCELoss(reduction=\"sum\")\n",
    "    rep_loss = bce(x_hat, x)\n",
    "\n",
    "    # loss for comparing distributions (Kullback–Leibler divergence)\n",
    "    kld = -0.5 *  torch.sum(1+log_var-mean.pow(2)-log_var.exp())\n",
    "\n",
    "    return rep_loss + kld\n",
    "\n",
    "optimizer = torch.optim.Adam(model.parameters(), lr=1e-3)"
   ]
  },
  {
   "cell_type": "markdown",
   "metadata": {},
   "source": [
    "### Training Model"
   ]
  },
  {
   "cell_type": "code",
   "execution_count": 32,
   "metadata": {},
   "outputs": [
    {
     "name": "stderr",
     "output_type": "stream",
     "text": [
      "  0%|          | 0/30 [00:00<?, ?it/s]"
     ]
    },
    {
     "name": "stdout",
     "output_type": "stream",
     "text": [
      "Epoch: 0\n",
      "------\n"
     ]
    },
    {
     "name": "stderr",
     "output_type": "stream",
     "text": [
      "  3%|▎         | 1/30 [00:01<00:33,  1.17s/it]"
     ]
    },
    {
     "name": "stdout",
     "output_type": "stream",
     "text": [
      "Train Loss: 119697.0781\n",
      "Test Loss: 91865.2500\n",
      "Epoch: 1\n",
      "------\n"
     ]
    },
    {
     "name": "stderr",
     "output_type": "stream",
     "text": [
      "  7%|▋         | 2/30 [00:02<00:28,  1.01s/it]"
     ]
    },
    {
     "name": "stdout",
     "output_type": "stream",
     "text": [
      "Train Loss: 110758.2812\n",
      "Test Loss: 83908.8594\n",
      "Epoch: 2\n",
      "------\n"
     ]
    },
    {
     "name": "stderr",
     "output_type": "stream",
     "text": [
      " 10%|█         | 3/30 [00:02<00:26,  1.03it/s]"
     ]
    },
    {
     "name": "stdout",
     "output_type": "stream",
     "text": [
      "Train Loss: 105282.6094\n",
      "Test Loss: 81662.5781\n",
      "Epoch: 3\n",
      "------\n"
     ]
    },
    {
     "name": "stderr",
     "output_type": "stream",
     "text": [
      " 13%|█▎        | 4/30 [00:03<00:23,  1.08it/s]"
     ]
    },
    {
     "name": "stdout",
     "output_type": "stream",
     "text": [
      "Train Loss: 103617.7344\n",
      "Test Loss: 82151.3438\n",
      "Epoch: 4\n",
      "------\n"
     ]
    },
    {
     "name": "stderr",
     "output_type": "stream",
     "text": [
      " 17%|█▋        | 5/30 [00:04<00:22,  1.12it/s]"
     ]
    },
    {
     "name": "stdout",
     "output_type": "stream",
     "text": [
      "Train Loss: 102082.9375\n",
      "Test Loss: 79392.3125\n",
      "Epoch: 5\n",
      "------\n"
     ]
    },
    {
     "name": "stderr",
     "output_type": "stream",
     "text": [
      " 20%|██        | 6/30 [00:05<00:21,  1.12it/s]"
     ]
    },
    {
     "name": "stdout",
     "output_type": "stream",
     "text": [
      "Train Loss: 101177.7031\n",
      "Test Loss: 79384.0703\n",
      "Epoch: 6\n",
      "------\n"
     ]
    },
    {
     "name": "stderr",
     "output_type": "stream",
     "text": [
      " 23%|██▎       | 7/30 [00:06<00:20,  1.13it/s]"
     ]
    },
    {
     "name": "stdout",
     "output_type": "stream",
     "text": [
      "Train Loss: 99680.2344\n",
      "Test Loss: 78879.5938\n",
      "Epoch: 7\n",
      "------\n"
     ]
    },
    {
     "name": "stderr",
     "output_type": "stream",
     "text": [
      " 27%|██▋       | 8/30 [00:07<00:19,  1.15it/s]"
     ]
    },
    {
     "name": "stdout",
     "output_type": "stream",
     "text": [
      "Train Loss: 98943.4375\n",
      "Test Loss: 77625.4375\n",
      "Epoch: 8\n",
      "------\n"
     ]
    },
    {
     "name": "stderr",
     "output_type": "stream",
     "text": [
      " 30%|███       | 9/30 [00:07<00:17,  1.22it/s]"
     ]
    },
    {
     "name": "stdout",
     "output_type": "stream",
     "text": [
      "Train Loss: 98234.6875\n",
      "Test Loss: 77811.1719\n",
      "Epoch: 9\n",
      "------\n"
     ]
    },
    {
     "name": "stderr",
     "output_type": "stream",
     "text": [
      " 33%|███▎      | 10/30 [00:08<00:15,  1.27it/s]"
     ]
    },
    {
     "name": "stdout",
     "output_type": "stream",
     "text": [
      "Train Loss: 98857.8203\n",
      "Test Loss: 77875.4375\n",
      "Epoch: 10\n",
      "------\n"
     ]
    },
    {
     "name": "stderr",
     "output_type": "stream",
     "text": [
      " 37%|███▋      | 11/30 [00:09<00:14,  1.33it/s]"
     ]
    },
    {
     "name": "stdout",
     "output_type": "stream",
     "text": [
      "Train Loss: 98749.7266\n",
      "Test Loss: 76688.0625\n",
      "Epoch: 11\n",
      "------\n"
     ]
    },
    {
     "name": "stderr",
     "output_type": "stream",
     "text": [
      " 40%|████      | 12/30 [00:10<00:13,  1.37it/s]"
     ]
    },
    {
     "name": "stdout",
     "output_type": "stream",
     "text": [
      "Train Loss: 97076.2188\n",
      "Test Loss: 75385.4531\n",
      "Epoch: 12\n",
      "------\n"
     ]
    },
    {
     "name": "stderr",
     "output_type": "stream",
     "text": [
      " 43%|████▎     | 13/30 [00:10<00:12,  1.40it/s]"
     ]
    },
    {
     "name": "stdout",
     "output_type": "stream",
     "text": [
      "Train Loss: 96349.8281\n",
      "Test Loss: 76752.7188\n",
      "Epoch: 13\n",
      "------\n"
     ]
    },
    {
     "name": "stderr",
     "output_type": "stream",
     "text": [
      " 47%|████▋     | 14/30 [00:11<00:11,  1.40it/s]"
     ]
    },
    {
     "name": "stdout",
     "output_type": "stream",
     "text": [
      "Train Loss: 95941.0547\n",
      "Test Loss: 74533.2578\n",
      "Epoch: 14\n",
      "------\n"
     ]
    },
    {
     "name": "stderr",
     "output_type": "stream",
     "text": [
      " 50%|█████     | 15/30 [00:12<00:10,  1.42it/s]"
     ]
    },
    {
     "name": "stdout",
     "output_type": "stream",
     "text": [
      "Train Loss: 95015.3438\n",
      "Test Loss: 74582.9609\n",
      "Epoch: 15\n",
      "------\n"
     ]
    },
    {
     "name": "stderr",
     "output_type": "stream",
     "text": [
      " 53%|█████▎    | 16/30 [00:12<00:09,  1.45it/s]"
     ]
    },
    {
     "name": "stdout",
     "output_type": "stream",
     "text": [
      "Train Loss: 95118.3125\n",
      "Test Loss: 75120.5312\n",
      "Epoch: 16\n",
      "------\n"
     ]
    },
    {
     "name": "stderr",
     "output_type": "stream",
     "text": [
      " 57%|█████▋    | 17/30 [00:13<00:08,  1.47it/s]"
     ]
    },
    {
     "name": "stdout",
     "output_type": "stream",
     "text": [
      "Train Loss: 95110.6641\n",
      "Test Loss: 75657.2188\n",
      "Epoch: 17\n",
      "------\n"
     ]
    },
    {
     "name": "stderr",
     "output_type": "stream",
     "text": [
      " 60%|██████    | 18/30 [00:14<00:08,  1.46it/s]"
     ]
    },
    {
     "name": "stdout",
     "output_type": "stream",
     "text": [
      "Train Loss: 94989.0938\n",
      "Test Loss: 74798.0625\n",
      "Epoch: 18\n",
      "------\n"
     ]
    },
    {
     "name": "stderr",
     "output_type": "stream",
     "text": [
      " 63%|██████▎   | 19/30 [00:14<00:07,  1.46it/s]"
     ]
    },
    {
     "name": "stdout",
     "output_type": "stream",
     "text": [
      "Train Loss: 94092.4688\n",
      "Test Loss: 75075.4688\n",
      "Epoch: 19\n",
      "------\n"
     ]
    },
    {
     "name": "stderr",
     "output_type": "stream",
     "text": [
      " 67%|██████▋   | 20/30 [00:15<00:06,  1.48it/s]"
     ]
    },
    {
     "name": "stdout",
     "output_type": "stream",
     "text": [
      "Train Loss: 94351.7656\n",
      "Test Loss: 74360.2344\n",
      "Epoch: 20\n",
      "------\n"
     ]
    },
    {
     "name": "stderr",
     "output_type": "stream",
     "text": [
      " 70%|███████   | 21/30 [00:16<00:06,  1.48it/s]"
     ]
    },
    {
     "name": "stdout",
     "output_type": "stream",
     "text": [
      "Train Loss: 94399.7891\n",
      "Test Loss: 74013.3594\n",
      "Epoch: 21\n",
      "------\n"
     ]
    },
    {
     "name": "stderr",
     "output_type": "stream",
     "text": [
      " 73%|███████▎  | 22/30 [00:16<00:05,  1.46it/s]"
     ]
    },
    {
     "name": "stdout",
     "output_type": "stream",
     "text": [
      "Train Loss: 94103.1406\n",
      "Test Loss: 73290.7734\n",
      "Epoch: 22\n",
      "------\n"
     ]
    },
    {
     "name": "stderr",
     "output_type": "stream",
     "text": [
      " 77%|███████▋  | 23/30 [00:17<00:04,  1.48it/s]"
     ]
    },
    {
     "name": "stdout",
     "output_type": "stream",
     "text": [
      "Train Loss: 94590.1797\n",
      "Test Loss: 73721.5625\n",
      "Epoch: 23\n",
      "------\n"
     ]
    },
    {
     "name": "stderr",
     "output_type": "stream",
     "text": [
      " 80%|████████  | 24/30 [00:18<00:04,  1.50it/s]"
     ]
    },
    {
     "name": "stdout",
     "output_type": "stream",
     "text": [
      "Train Loss: 94245.4531\n",
      "Test Loss: 73827.6250\n",
      "Epoch: 24\n",
      "------\n"
     ]
    },
    {
     "name": "stderr",
     "output_type": "stream",
     "text": [
      " 83%|████████▎ | 25/30 [00:18<00:03,  1.51it/s]"
     ]
    },
    {
     "name": "stdout",
     "output_type": "stream",
     "text": [
      "Train Loss: 93639.2266\n",
      "Test Loss: 73846.2812\n",
      "Epoch: 25\n",
      "------\n"
     ]
    },
    {
     "name": "stderr",
     "output_type": "stream",
     "text": [
      " 87%|████████▋ | 26/30 [00:19<00:02,  1.52it/s]"
     ]
    },
    {
     "name": "stdout",
     "output_type": "stream",
     "text": [
      "Train Loss: 93330.5781\n",
      "Test Loss: 73943.5391\n",
      "Epoch: 26\n",
      "------\n"
     ]
    },
    {
     "name": "stderr",
     "output_type": "stream",
     "text": [
      " 90%|█████████ | 27/30 [00:20<00:02,  1.49it/s]"
     ]
    },
    {
     "name": "stdout",
     "output_type": "stream",
     "text": [
      "Train Loss: 93352.9844\n",
      "Test Loss: 75744.7500\n",
      "Epoch: 27\n",
      "------\n"
     ]
    },
    {
     "name": "stderr",
     "output_type": "stream",
     "text": [
      " 93%|█████████▎| 28/30 [00:20<00:01,  1.47it/s]"
     ]
    },
    {
     "name": "stdout",
     "output_type": "stream",
     "text": [
      "Train Loss: 94489.7188\n",
      "Test Loss: 73807.3750\n",
      "Epoch: 28\n",
      "------\n"
     ]
    },
    {
     "name": "stderr",
     "output_type": "stream",
     "text": [
      " 97%|█████████▋| 29/30 [00:21<00:00,  1.45it/s]"
     ]
    },
    {
     "name": "stdout",
     "output_type": "stream",
     "text": [
      "Train Loss: 93973.1016\n",
      "Test Loss: 73314.5000\n",
      "Epoch: 29\n",
      "------\n"
     ]
    },
    {
     "name": "stderr",
     "output_type": "stream",
     "text": [
      "100%|██████████| 30/30 [00:22<00:00,  1.35it/s]"
     ]
    },
    {
     "name": "stdout",
     "output_type": "stream",
     "text": [
      "Train Loss: 94483.8906\n",
      "Test Loss: 73664.5391\n"
     ]
    },
    {
     "name": "stderr",
     "output_type": "stream",
     "text": [
      "\n"
     ]
    }
   ],
   "source": [
    "torch.manual_seed(42)\n",
    "\n",
    "epochs = 30\n",
    "\n",
    "for epoch in tqdm(range(epochs)):\n",
    "    print(f\"Epoch: {epoch}\\n------\")\n",
    "    \n",
    "    # TRAINING\n",
    "    train_loss =  0\n",
    "    model.train()\n",
    "    for batch, (X, y) in enumerate(train_dl):\n",
    "\n",
    "        if X.shape[0] != 16:\n",
    "            continue\n",
    "\n",
    "        X, y = X.view(batch_size, input_dim).to(device), y.to(device)\n",
    "\n",
    "        # forward pass\n",
    "        train_x_hat, train_mean, train_log_var = model(X)\n",
    "\n",
    "        # metrics\n",
    "        loss = loss_fn(X, train_x_hat, train_mean, train_log_var)\n",
    "        train_loss += loss\n",
    "\n",
    "        # backprop\n",
    "        optimizer.zero_grad()\n",
    "        loss.backward()\n",
    "        optimizer.step()\n",
    "    \n",
    "    # print metrics\n",
    "    train_loss /= len(train_dl)\n",
    "    print(f\"Train Loss: {train_loss:.4f}\")\n",
    "\n",
    "    \n",
    "    # TESTING\n",
    "    test_loss = 0\n",
    "    model.eval()\n",
    "    with torch.inference_mode():\n",
    "        for X, y in test_dl:\n",
    "\n",
    "            if X.shape[0] != 16:\n",
    "                continue\n",
    "\n",
    "            X, y = X.view(batch_size, input_dim).to(device), y.to(device)\n",
    "\n",
    "            # forward pass\n",
    "            test_x_hat, test_mean, test_var = model(X)\n",
    "\n",
    "            # metrics\n",
    "            test_loss += loss_fn(X, test_x_hat, test_mean, test_var)\n",
    "\n",
    "        # print metrics\n",
    "        test_loss /= len(test_dl)\n",
    "        print(f\"Test Loss: {test_loss:.4f}\")"
   ]
  },
  {
   "cell_type": "markdown",
   "metadata": {},
   "source": [
    "### Testing Model"
   ]
  },
  {
   "cell_type": "code",
   "execution_count": 37,
   "metadata": {},
   "outputs": [
    {
     "data": {
      "text/plain": [
       "<matplotlib.image.AxesImage at 0x2d97b1bfbb0>"
      ]
     },
     "execution_count": 37,
     "metadata": {},
     "output_type": "execute_result"
    },
    {
     "data": {
      "image/png": "[encoded data removed]",
      "text/plain": [
       "<Figure size 1500x800 with 2 Axes>"
      ]
     },
     "metadata": {},
     "output_type": "display_data"
    }
   ],
   "source": [
    "X, y = next(iter(train_dl))\n",
    "X, y = X[0, :, :].view(input_dim).to(device), y[0].to(device)\n",
    "\n",
    "sample_reconst, sample_mean, sample_var = model(X)\n",
    "sample_reconst = sample_reconst.reshape(3, 64, 64).permute(1, 2, 0).detach().cpu().numpy()\n",
    "\n",
    "X_img = X.reshape(3, 64, 64).permute(1, 2, 0).detach().cpu().numpy()\n",
    "\n",
    "plt.figure(figsize=(15, 8))\n",
    "\n",
    "plt.subplot(121)\n",
    "plt.title(\"Reconstruction\")\n",
    "plt.imshow(sample_reconst)\n",
    "\n",
    "plt.subplot(122)\n",
    "plt.title(\"Ground Truth\")\n",
    "plt.imshow(X_img)"
   ]
  }
 ],
 "metadata": {
  "kernelspec": {
   "display_name": "base",
   "language": "python",
   "name": "python3"
  },
  "language_info": {
   "codemirror_mode": {
    "name": "ipython",
    "version": 3
   },
   "file_extension": ".py",
   "mimetype": "text/x-python",
   "name": "python",
   "nbconvert_exporter": "python",
   "pygments_lexer": "ipython3",
   "version": "3.9.19"
  }
 },
 "nbformat": 4,
 "nbformat_minor": 2
}
